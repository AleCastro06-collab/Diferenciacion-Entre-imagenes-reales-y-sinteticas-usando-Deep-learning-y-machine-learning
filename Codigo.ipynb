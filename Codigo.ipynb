{
  "cells": [
    {
      "cell_type": "markdown",
      "metadata": {
        "id": "pTrmvxCJdWBk"
      },
      "source": [
        "# **Deteccion de imagenes generadas por IA usando deep y machine learning**\n",
        "\n",
        "\n",
        "📌 Referencia para celdas de codigo que son auxiliares\n",
        "\n",
        "🥷🏿 Referencia a celdas para codigo que no usa etiquetas\n",
        "\n",
        "🏷️ Referencia a celdas para codigo que usa etiquetas\n",
        "\n",
        "🚨 En la primera celda (Montar Drive), se debe cambiar la ruta a la carpeta personal de Drive donde están los archivos del proyecto.\n",
        "\n",
        "✅ Solo es necesario ejecutar estas celdas si se desea trabajar únicamente con machine learning y clustering, sin entrenar modelos de deep learning ni procesar datos. pero se deben tener cargados los archivos del repositorio, o haber corrido el codigo antes\n",
        "\n",
        "\n",
        "\n"
      ]
    },
    {
      "cell_type": "markdown",
      "metadata": {
        "id": "Wy0oG_QjfzVJ"
      },
      "source": [
        "# Celdas auxiliares 📌"
      ]
    },
    {
      "cell_type": "code",
      "execution_count": null,
      "metadata": {
        "cellView": "form",
        "colab": {
          "base_uri": "https://localhost:8080/"
        },
        "id": "p9FcSGHAufl-",
        "outputId": "9b46dcce-a551-4eca-e368-533a225f9138"
      },
      "outputs": [
        {
          "name": "stdout",
          "output_type": "stream",
          "text": [
            "Drive already mounted at /content/drive; to attempt to forcibly remount, call drive.mount(\"/content/drive\", force_remount=True).\n"
          ]
        }
      ],
      "source": [
        "#@title **MONTAR EL DRIVE**  📌🚨\n",
        "import os\n",
        "from google.colab import drive\n",
        "drive.mount('/content/drive')\n",
        "ruta ='/content/drive/MyDrive/UIS/Inteligencia artificial 1/'\n",
        "#ruta = '/content/drive/MyDrive/INTELIGENCIA ARTIFICIAL/'\n",
        "os.chdir(ruta)"
      ]
    },
    {
      "cell_type": "code",
      "execution_count": null,
      "metadata": {
        "cellView": "form",
        "colab": {
          "base_uri": "https://localhost:8080/"
        },
        "id": "q2yAf2coIhq3",
        "outputId": "025d0962-50ab-4df4-d6b9-fb2423b01bbf"
      },
      "outputs": [
        {
          "name": "stdout",
          "output_type": "stream",
          "text": [
            "Path to dataset files: /kaggle/input/cifake-real-and-ai-generated-synthetic-images\n"
          ]
        }
      ],
      "source": [
        "import kagglehub\n",
        "#@title Cargar librerias 1 📌\n",
        "# Download latest version\n",
        "path = kagglehub.dataset_download(\"birdy654/cifake-real-and-ai-generated-synthetic-images\")\n",
        "print(\"Path to dataset files:\", path)\n"
      ]
    },
    {
      "cell_type": "code",
      "execution_count": null,
      "metadata": {
        "cellView": "form",
        "colab": {
          "base_uri": "https://localhost:8080/"
        },
        "collapsed": true,
        "id": "cdtTEVaYkcdK",
        "outputId": "58a4f77c-e21a-4ed2-d5ca-d281d5124b68"
      },
      "outputs": [
        {
          "name": "stdout",
          "output_type": "stream",
          "text": [
            "Requirement already satisfied: dill in /usr/local/lib/python3.11/dist-packages (0.3.7)\n",
            "Requirement already satisfied: shap in /usr/local/lib/python3.11/dist-packages (0.47.2)\n",
            "Requirement already satisfied: joblib in /usr/local/lib/python3.11/dist-packages (1.5.0)\n",
            "Requirement already satisfied: numpy in /usr/local/lib/python3.11/dist-packages (from shap) (2.0.2)\n",
            "Requirement already satisfied: scipy in /usr/local/lib/python3.11/dist-packages (from shap) (1.15.3)\n",
            "Requirement already satisfied: scikit-learn in /usr/local/lib/python3.11/dist-packages (from shap) (1.6.1)\n",
            "Requirement already satisfied: pandas in /usr/local/lib/python3.11/dist-packages (from shap) (2.2.2)\n",
            "Requirement already satisfied: tqdm>=4.27.0 in /usr/local/lib/python3.11/dist-packages (from shap) (4.67.1)\n",
            "Requirement already satisfied: packaging>20.9 in /usr/local/lib/python3.11/dist-packages (from shap) (24.2)\n",
            "Requirement already satisfied: slicer==0.0.8 in /usr/local/lib/python3.11/dist-packages (from shap) (0.0.8)\n",
            "Requirement already satisfied: numba>=0.54 in /usr/local/lib/python3.11/dist-packages (from shap) (0.60.0)\n",
            "Requirement already satisfied: cloudpickle in /usr/local/lib/python3.11/dist-packages (from shap) (3.1.1)\n",
            "Requirement already satisfied: typing-extensions in /usr/local/lib/python3.11/dist-packages (from shap) (4.13.2)\n",
            "Requirement already satisfied: llvmlite<0.44,>=0.43.0dev0 in /usr/local/lib/python3.11/dist-packages (from numba>=0.54->shap) (0.43.0)\n",
            "Requirement already satisfied: python-dateutil>=2.8.2 in /usr/local/lib/python3.11/dist-packages (from pandas->shap) (2.9.0.post0)\n",
            "Requirement already satisfied: pytz>=2020.1 in /usr/local/lib/python3.11/dist-packages (from pandas->shap) (2025.2)\n",
            "Requirement already satisfied: tzdata>=2022.7 in /usr/local/lib/python3.11/dist-packages (from pandas->shap) (2025.2)\n",
            "Requirement already satisfied: threadpoolctl>=3.1.0 in /usr/local/lib/python3.11/dist-packages (from scikit-learn->shap) (3.6.0)\n",
            "Requirement already satisfied: six>=1.5 in /usr/local/lib/python3.11/dist-packages (from python-dateutil>=2.8.2->pandas->shap) (1.17.0)\n"
          ]
        }
      ],
      "source": [
        "#@title Cargar librerias 2 📌\n",
        "import numpy as np\n",
        "import pandas as pd\n",
        "import os\n",
        "!pip install dill shap joblib\n",
        "#plt.imshow((X_train[0]*255).astype(\"uint8\"))"
      ]
    },
    {
      "cell_type": "code",
      "execution_count": null,
      "metadata": {
        "cellView": "form",
        "id": "J7IVBkI9kiU9"
      },
      "outputs": [],
      "source": [
        "#@title Cargar librerias 3 📌\n",
        "import tensorflow as tf\n",
        "from tensorflow import keras\n",
        "import matplotlib.pyplot as plt\n",
        "import seaborn as sns\n",
        "from sklearn.model_selection import train_test_split\n",
        "from sklearn.metrics import f1_score, precision_score, recall_score, classification_report, confusion_matrix\n",
        "import os\n",
        "import numpy as np\n",
        "from keras import Sequential\n",
        "from keras.layers import Dense, Input, MaxPool2D, Conv2D, Flatten, InputLayer, Reshape, Conv2DTranspose, BatchNormalization\n",
        "# import kaggle\n",
        "import zipfile\n",
        "import torch\n",
        "import joblib\n",
        "import shap\n",
        "import dill"
      ]
    },
    {
      "cell_type": "code",
      "execution_count": null,
      "metadata": {
        "cellView": "form",
        "id": "97qn8_uSk4h0"
      },
      "outputs": [],
      "source": [
        "#@title Rutas del dataset 📌\n",
        "folder_path = \"/root/.cache/kagglehub/datasets/birdy654/cifake-real-and-ai-generated-synthetic-images/versions/3\"\n",
        "TRAIN_PATH = path+'/train'\n",
        "TEST_PATH = path+'/test'"
      ]
    },
    {
      "cell_type": "code",
      "execution_count": null,
      "metadata": {
        "id": "QktAl_TRmgvk",
        "cellView": "form"
      },
      "outputs": [],
      "source": [
        "#@title Funcion para cargar dataset 📌\n",
        "def load_image_data(folder_path, label, target_size=(32, 32)):\n",
        "    images = []\n",
        "    labels = []\n",
        "    total_files = len(os.listdir(folder_path))\n",
        "    print(f\"Loading {total_files} images from {folder_path}...\")\n",
        "\n",
        "    for i, img_name in enumerate(os.listdir(folder_path)):\n",
        "        img_path = os.path.join(folder_path, img_name)\n",
        "        try:\n",
        "            img = tf.keras.preprocessing.image.load_img(img_path, target_size=target_size)\n",
        "            img = tf.keras.preprocessing.image.img_to_array(img)\n",
        "            images.append(img)\n",
        "            labels.append(label)\n",
        "\n",
        "            # Print progress every 1000 images\n",
        "            if (i+1) % 1000 == 0 or (i+1) == total_files:\n",
        "                print(f\"Loaded {i+1}/{total_files} images\")\n",
        "\n",
        "        except Exception as e:\n",
        "            print(f\"Error loading {img_path}: {e}\")\n",
        "\n",
        "    return np.array(images), np.array(labels)\n"
      ]
    },
    {
      "cell_type": "code",
      "execution_count": null,
      "metadata": {
        "cellView": "form",
        "colab": {
          "background_save": true,
          "base_uri": "https://localhost:8080/"
        },
        "collapsed": true,
        "id": "kpmyDd1ntyFa",
        "outputId": "2f5f2758-3d4c-479b-9e34-de45903a7b3f"
      },
      "outputs": [
        {
          "name": "stdout",
          "output_type": "stream",
          "text": [
            "Loading training data...\n",
            "Loading 50000 images from /kaggle/input/cifake-real-and-ai-generated-synthetic-images/train/REAL...\n",
            "Loaded 1000/50000 images\n",
            "Loaded 2000/50000 images\n",
            "Loaded 3000/50000 images\n",
            "Loaded 4000/50000 images\n",
            "Loaded 5000/50000 images\n",
            "Loaded 6000/50000 images\n",
            "Loaded 7000/50000 images\n",
            "Loaded 8000/50000 images\n",
            "Loaded 9000/50000 images\n",
            "Loaded 10000/50000 images\n",
            "Loaded 11000/50000 images\n",
            "Loaded 12000/50000 images\n",
            "Loaded 13000/50000 images\n",
            "Loaded 14000/50000 images\n",
            "Loaded 15000/50000 images\n",
            "Loaded 16000/50000 images\n",
            "Loaded 17000/50000 images\n",
            "Loaded 18000/50000 images\n",
            "Loaded 19000/50000 images\n",
            "Loaded 20000/50000 images\n",
            "Loaded 21000/50000 images\n",
            "Loaded 22000/50000 images\n",
            "Loaded 23000/50000 images\n",
            "Loaded 24000/50000 images\n",
            "Loaded 25000/50000 images\n",
            "Loaded 26000/50000 images\n",
            "Loaded 27000/50000 images\n",
            "Loaded 28000/50000 images\n",
            "Loaded 29000/50000 images\n",
            "Loaded 30000/50000 images\n",
            "Loaded 31000/50000 images\n",
            "Loaded 32000/50000 images\n",
            "Loaded 33000/50000 images\n",
            "Loaded 34000/50000 images\n",
            "Loaded 35000/50000 images\n",
            "Loaded 36000/50000 images\n",
            "Loaded 37000/50000 images\n",
            "Loaded 38000/50000 images\n",
            "Loaded 39000/50000 images\n",
            "Loaded 40000/50000 images\n",
            "Loaded 41000/50000 images\n",
            "Loaded 42000/50000 images\n",
            "Loaded 43000/50000 images\n",
            "Loaded 44000/50000 images\n",
            "Loaded 45000/50000 images\n",
            "Loaded 46000/50000 images\n",
            "Loaded 47000/50000 images\n",
            "Loaded 48000/50000 images\n",
            "Loaded 49000/50000 images\n",
            "Loaded 50000/50000 images\n",
            "Loading 50000 images from /kaggle/input/cifake-real-and-ai-generated-synthetic-images/train/FAKE...\n",
            "Loaded 1000/50000 images\n",
            "Loaded 2000/50000 images\n",
            "Loaded 3000/50000 images\n",
            "Loaded 4000/50000 images\n",
            "Loaded 5000/50000 images\n",
            "Loaded 6000/50000 images\n",
            "Loaded 7000/50000 images\n",
            "Loaded 8000/50000 images\n",
            "Loaded 9000/50000 images\n",
            "Loaded 10000/50000 images\n",
            "Loaded 11000/50000 images\n",
            "Loaded 12000/50000 images\n",
            "Loaded 13000/50000 images\n",
            "Loaded 14000/50000 images\n",
            "Loaded 15000/50000 images\n",
            "Loaded 16000/50000 images\n",
            "Loaded 17000/50000 images\n",
            "Loaded 18000/50000 images\n",
            "Loaded 19000/50000 images\n",
            "Loaded 20000/50000 images\n",
            "Loaded 21000/50000 images\n",
            "Loaded 22000/50000 images\n",
            "Loaded 23000/50000 images\n",
            "Loaded 24000/50000 images\n",
            "Loaded 25000/50000 images\n",
            "Loaded 26000/50000 images\n",
            "Loaded 27000/50000 images\n",
            "Loaded 28000/50000 images\n",
            "Loaded 29000/50000 images\n",
            "Loaded 30000/50000 images\n",
            "Loaded 31000/50000 images\n",
            "Loaded 32000/50000 images\n",
            "Loaded 33000/50000 images\n",
            "Loaded 34000/50000 images\n",
            "Loaded 35000/50000 images\n",
            "Loaded 36000/50000 images\n",
            "Loaded 37000/50000 images\n",
            "Loaded 38000/50000 images\n",
            "Loaded 39000/50000 images\n",
            "Loaded 40000/50000 images\n",
            "Loaded 41000/50000 images\n",
            "Loaded 42000/50000 images\n",
            "Loaded 43000/50000 images\n",
            "Loaded 44000/50000 images\n",
            "Loaded 45000/50000 images\n",
            "Loaded 46000/50000 images\n",
            "Loaded 47000/50000 images\n",
            "Loaded 48000/50000 images\n",
            "Loaded 49000/50000 images\n",
            "Loaded 50000/50000 images\n",
            "Loading test data...\n",
            "Loading 10000 images from /kaggle/input/cifake-real-and-ai-generated-synthetic-images/test/REAL...\n",
            "Loaded 1000/10000 images\n",
            "Loaded 2000/10000 images\n",
            "Loaded 3000/10000 images\n",
            "Loaded 4000/10000 images\n",
            "Loaded 5000/10000 images\n",
            "Loaded 6000/10000 images\n",
            "Loaded 7000/10000 images\n",
            "Loaded 8000/10000 images\n",
            "Loaded 9000/10000 images\n",
            "Loaded 10000/10000 images\n",
            "Loading 10000 images from /kaggle/input/cifake-real-and-ai-generated-synthetic-images/test/FAKE...\n",
            "Loaded 1000/10000 images\n",
            "Loaded 2000/10000 images\n",
            "Loaded 3000/10000 images\n",
            "Loaded 4000/10000 images\n",
            "Loaded 5000/10000 images\n",
            "Loaded 6000/10000 images\n",
            "Loaded 7000/10000 images\n",
            "Loaded 8000/10000 images\n",
            "Loaded 9000/10000 images\n",
            "Loaded 10000/10000 images\n"
          ]
        }
      ],
      "source": [
        "#@title Carga de dataset y normalizar datos 📌\n",
        "print(\"Loading training data...\")\n",
        "real_images, real_labels = load_image_data(os.path.join(TRAIN_PATH, 'REAL'), [0, 1])\n",
        "fake_images, fake_labels = load_image_data(os.path.join(TRAIN_PATH, 'FAKE'), [1, 0])\n",
        "\n",
        "print(\"Loading test data...\")\n",
        "test_real_images, test_real_labels = load_image_data(os.path.join(TEST_PATH, 'REAL'), [0, 1])\n",
        "test_fake_images, test_fake_labels = load_image_data(os.path.join(TEST_PATH, 'FAKE'), [1, 0])\n",
        "\n",
        "X_train = np.concatenate((real_images, fake_images)).astype('float32') / 255.0\n",
        "y_train = np.concatenate((real_labels, fake_labels))\n",
        "X_test = np.concatenate((test_real_images, test_fake_images)).astype('float32') / 255.0\n",
        "y_test = np.concatenate((test_real_labels, test_fake_labels))\n",
        "X_train, X_val, y_train, y_val = train_test_split(X_train, y_train, test_size=0.1, random_state=21)"
      ]
    },
    {
      "cell_type": "markdown",
      "metadata": {
        "id": "Ix1iIL_UfpE0"
      },
      "source": [
        "# Modelo supervisado 🏷️"
      ]
    },
    {
      "cell_type": "code",
      "execution_count": null,
      "metadata": {
        "cellView": "form",
        "id": "3MMK3HpTQq0p"
      },
      "outputs": [],
      "source": [
        "#@title Diseño de modelo convolucional supervisado 🏷️\n",
        "def make_conv_model_s(learning_rate=1e-3, optimizer=\"adam\", batchsize=32,):\n",
        "    model = tf.keras.Sequential([\n",
        "    tf.keras.layers.Conv2D(32, (3, 3), activation='relu', input_shape=X_train[0].shape),\n",
        "    tf.keras.layers.MaxPooling2D(pool_size=(2, 2)),\n",
        "\n",
        "    tf.keras.layers.Conv2D(64, (3, 3), activation='relu'),\n",
        "    tf.keras.layers.MaxPooling2D(pool_size=(2, 2)),\n",
        "\n",
        "    tf.keras.layers.Conv2D(128, (3, 3), activation='relu'),\n",
        "    tf.keras.layers.MaxPooling2D(pool_size=(2, 2)),\n",
        "\n",
        "    tf.keras.layers.Flatten(),\n",
        "\n",
        "    tf.keras.layers.Dense(256, activation='relu'),\n",
        "    tf.keras.layers.Dense(512, activation='relu'),\n",
        "    tf.keras.layers.Dense(2, activation='softmax')\n",
        "    ])\n",
        "\n",
        "\n",
        "    # Learning rate scheduler\n",
        "    lr_schedule = keras.optimizers.schedules.ExponentialDecay(\n",
        "        initial_learning_rate=learning_rate,\n",
        "        decay_steps=10000,\n",
        "        decay_rate=0.9)\n",
        "\n",
        "    # Optimizer selection\n",
        "    if optimizer.lower() == \"adam\":\n",
        "        opt = keras.optimizers.Adam(learning_rate=lr_schedule)\n",
        "    else:\n",
        "        opt = keras.optimizers.SGD(learning_rate=lr_schedule, momentum=0.9)\n",
        "\n",
        "    # Include 'precision' in the metrics list\n",
        "    model.compile(\n",
        "        optimizer=opt,\n",
        "        loss=keras.losses.BinaryCrossentropy(),\n",
        "        metrics=[\n",
        "            keras.metrics.BinaryAccuracy(),\n",
        "            keras.metrics.Precision(), # Added precision metric\n",
        "            keras.metrics.Recall()\n",
        "        ])\n",
        "\n",
        "    # Early stopping callback\n",
        "    callbacks = [\n",
        "        keras.callbacks.EarlyStopping(\n",
        "            monitor='val_loss',\n",
        "            patience=5,\n",
        "            restore_best_weights=True)\n",
        "    ]\n",
        "\n",
        "    print('Training model...')\n",
        "    history = model.fit(\n",
        "        x=X_train,\n",
        "        y=y_train,\n",
        "        batch_size=batchsize,\n",
        "        epochs=5,\n",
        "        validation_data=(X_val, y_val),\n",
        "        callbacks=callbacks,\n",
        "        verbose=1\n",
        "    )\n",
        "\n",
        "    return model"
      ]
    },
    {
      "cell_type": "code",
      "execution_count": null,
      "metadata": {
        "cellView": "form",
        "colab": {
          "base_uri": "https://localhost:8080/"
        },
        "collapsed": true,
        "id": "Ah7yyuyvSabu",
        "outputId": "fe1b0b0a-0113-4a6e-cf5e-da80a833a2a4"
      },
      "outputs": [
        {
          "name": "stderr",
          "output_type": "stream",
          "text": [
            "/usr/local/lib/python3.11/dist-packages/keras/src/layers/convolutional/base_conv.py:107: UserWarning: Do not pass an `input_shape`/`input_dim` argument to a layer. When using Sequential models, prefer using an `Input(shape)` object as the first layer in the model instead.\n",
            "  super().__init__(activity_regularizer=activity_regularizer, **kwargs)\n"
          ]
        },
        {
          "name": "stdout",
          "output_type": "stream",
          "text": [
            "Training model...\n",
            "Epoch 1/5\n",
            "\u001b[1m2813/2813\u001b[0m \u001b[32m━━━━━━━━━━━━━━━━━━━━\u001b[0m\u001b[37m\u001b[0m \u001b[1m21s\u001b[0m 6ms/step - binary_accuracy: 0.7998 - loss: 0.4175 - precision: 0.7998 - recall: 0.7998 - val_binary_accuracy: 0.8935 - val_loss: 0.2596 - val_precision: 0.8935 - val_recall: 0.8935\n",
            "Epoch 2/5\n",
            "\u001b[1m2813/2813\u001b[0m \u001b[32m━━━━━━━━━━━━━━━━━━━━\u001b[0m\u001b[37m\u001b[0m \u001b[1m13s\u001b[0m 4ms/step - binary_accuracy: 0.9027 - loss: 0.2393 - precision: 0.9027 - recall: 0.9027 - val_binary_accuracy: 0.8765 - val_loss: 0.3063 - val_precision: 0.8765 - val_recall: 0.8765\n",
            "Epoch 3/5\n",
            "\u001b[1m2813/2813\u001b[0m \u001b[32m━━━━━━━━━━━━━━━━━━━━\u001b[0m\u001b[37m\u001b[0m \u001b[1m21s\u001b[0m 4ms/step - binary_accuracy: 0.9192 - loss: 0.2037 - precision: 0.9192 - recall: 0.9192 - val_binary_accuracy: 0.9171 - val_loss: 0.2037 - val_precision: 0.9171 - val_recall: 0.9171\n",
            "Epoch 4/5\n",
            "\u001b[1m2813/2813\u001b[0m \u001b[32m━━━━━━━━━━━━━━━━━━━━\u001b[0m\u001b[37m\u001b[0m \u001b[1m13s\u001b[0m 4ms/step - binary_accuracy: 0.9285 - loss: 0.1818 - precision: 0.9285 - recall: 0.9285 - val_binary_accuracy: 0.9211 - val_loss: 0.1942 - val_precision: 0.9211 - val_recall: 0.9211\n",
            "Epoch 5/5\n",
            "\u001b[1m2813/2813\u001b[0m \u001b[32m━━━━━━━━━━━━━━━━━━━━\u001b[0m\u001b[37m\u001b[0m \u001b[1m12s\u001b[0m 4ms/step - binary_accuracy: 0.9366 - loss: 0.1591 - precision: 0.9366 - recall: 0.9366 - val_binary_accuracy: 0.9161 - val_loss: 0.2352 - val_precision: 0.9161 - val_recall: 0.9161\n"
          ]
        }
      ],
      "source": [
        "#@title crear modelo supervisado 🏷️\n",
        "nonsupervised_model = make_conv_model_s()"
      ]
    },
    {
      "cell_type": "code",
      "execution_count": null,
      "metadata": {
        "cellView": "form",
        "id": "TuAEw7ZlRSSs"
      },
      "outputs": [],
      "source": [
        "#@title Guardar modelos convolucionales supervisados en drive 🏷️\n",
        "from tensorflow.keras import Input, Model\n",
        "model_input = Input(shape=(32, 32, 3))\n",
        "x = model_input\n",
        "for layer in nonsupervised_model.layers[:7]:  # toma las 7 capas del autoencoder\n",
        "    x = layer(x)\n",
        "conv_model = Model(inputs=model_input, outputs=x)\n",
        "conv_model.save(ruta+'/Modelo_conv_flat_s.keras') # Guardar el modelo que genera el embebido, antes de pasarlo a una densa\n",
        "nonsupervised_model.save(ruta+'/Modelo_conv_full_s.keras') # Guarda el modelo completo entrenado"
      ]
    },
    {
      "cell_type": "code",
      "execution_count": null,
      "metadata": {
        "cellView": "form",
        "colab": {
          "base_uri": "https://localhost:8080/"
        },
        "collapsed": true,
        "id": "4ly-vRLuaeFa",
        "outputId": "55f2c7f5-b015-4bbe-d29f-9576fc6dd859"
      },
      "outputs": [
        {
          "name": "stdout",
          "output_type": "stream",
          "text": [
            "\u001b[1m2813/2813\u001b[0m \u001b[32m━━━━━━━━━━━━━━━━━━━━\u001b[0m\u001b[37m\u001b[0m \u001b[1m7s\u001b[0m 2ms/step\n",
            "\u001b[1m625/625\u001b[0m \u001b[32m━━━━━━━━━━━━━━━━━━━━\u001b[0m\u001b[37m\u001b[0m \u001b[1m1s\u001b[0m 2ms/step\n"
          ]
        }
      ],
      "source": [
        "#@title Genera embebidos y los guarda en drive supervisado 🏷️\n",
        "from tensorflow.keras.models import load_model\n",
        "def generar_embebidos(path = ruta + 'Modelo_conv_flat_s.keras'):\n",
        "  conv_model = load_model(path)\n",
        "  X_train_embebido = conv_model.predict(X_train)\n",
        "  X_test_embebido = conv_model.predict(X_test)\n",
        "\n",
        "  #Aplana los datos porque no hubó capa flatten\n",
        "  X_train_embebido = X_train_embebido.reshape(X_train_embebido.shape[0], -1)\n",
        "  X_test_embebido = X_test_embebido.reshape(X_test_embebido.shape[0], -1)\n",
        "\n",
        "  return X_train_embebido, X_test_embebido\n",
        "\n",
        "\n",
        "X_train_flat, X_test_flat = generar_embebidos()\n",
        "# Guardar como archivos separados\n",
        "np.save(ruta + 'X_train_flat_s.npy', X_train_flat)\n",
        "np.save(ruta + 'X_test_flat_s.npy', X_test_flat)\n",
        "np.save(ruta + 'y_train_s.npy', y_train)\n",
        "np.save(ruta + 'y_test_s.npy', y_test)"
      ]
    },
    {
      "cell_type": "code",
      "execution_count": null,
      "metadata": {
        "cellView": "form",
        "id": "yqoiSzOgaNnI"
      },
      "outputs": [],
      "source": [
        "#@title Cargar embebidos de drive supervisado 🏷️✅\n",
        "import numpy as np\n",
        "X_train_flat_s = np.load(ruta + 'X_train_flat_s.npy')\n",
        "X_test_flat_s = np.load(ruta + 'X_test_flat_s.npy')\n",
        "y_train_s = np.load(ruta + 'y_train_s.npy')\n",
        "y_test_s = np.load(ruta + 'y_test_s.npy')"
      ]
    },
    {
      "cell_type": "code",
      "execution_count": null,
      "metadata": {
        "cellView": "form",
        "colab": {
          "base_uri": "https://localhost:8080/",
          "height": 1000
        },
        "collapsed": true,
        "id": "XFHzPlx9cgEN",
        "outputId": "678fec24-1021-41be-a36e-ce8e2f16ed49"
      },
      "outputs": [
        {
          "name": "stdout",
          "output_type": "stream",
          "text": [
            "\n",
            "Modelo: Random Forest\n",
            "Accuracy:  0.9183\n",
            "Precision: 0.9248\n",
            "Recall:    0.9107\n",
            "F1 Score:  0.9177\n",
            "\n",
            "Reporte de clasificación:\n",
            "              precision    recall  f1-score   support\n",
            "\n",
            "        REAL       0.91      0.93      0.92     10000\n",
            "        FAKE       0.92      0.91      0.92     10000\n",
            "\n",
            "    accuracy                           0.92     20000\n",
            "   macro avg       0.92      0.92      0.92     20000\n",
            "weighted avg       0.92      0.92      0.92     20000\n",
            "\n"
          ]
        },
        {
          "data": {
            "image/png": "[encoded data removed]",
            "text/plain": [
              "<Figure size 640x480 with 2 Axes>"
            ]
          },
          "metadata": {},
          "output_type": "display_data"
        },
        {
          "name": "stdout",
          "output_type": "stream",
          "text": [
            "\n",
            "Modelo: Logistic Regression\n",
            "Accuracy:  0.9245\n",
            "Precision: 0.9173\n",
            "Recall:    0.9332\n",
            "F1 Score:  0.9252\n",
            "\n",
            "Reporte de clasificación:\n",
            "              precision    recall  f1-score   support\n",
            "\n",
            "        REAL       0.93      0.92      0.92     10000\n",
            "        FAKE       0.92      0.93      0.93     10000\n",
            "\n",
            "    accuracy                           0.92     20000\n",
            "   macro avg       0.92      0.92      0.92     20000\n",
            "weighted avg       0.92      0.92      0.92     20000\n",
            "\n"
          ]
        },
        {
          "data": {
            "image/png": "[encoded data removed]",
            "text/plain": [
              "<Figure size 640x480 with 2 Axes>"
            ]
          },
          "metadata": {},
          "output_type": "display_data"
        },
        {
          "name": "stdout",
          "output_type": "stream",
          "text": [
            "\n",
            "Modelo: SVM (RBF Kernel)\n",
            "Accuracy:  0.9306\n",
            "Precision: 0.9274\n",
            "Recall:    0.9345\n",
            "F1 Score:  0.9309\n",
            "\n",
            "Reporte de clasificación:\n",
            "              precision    recall  f1-score   support\n",
            "\n",
            "        REAL       0.93      0.93      0.93     10000\n",
            "        FAKE       0.93      0.93      0.93     10000\n",
            "\n",
            "    accuracy                           0.93     20000\n",
            "   macro avg       0.93      0.93      0.93     20000\n",
            "weighted avg       0.93      0.93      0.93     20000\n",
            "\n"
          ]
        },
        {
          "data": {
            "image/png": "[encoded data removed]",
            "text/plain": [
              "<Figure size 640x480 with 2 Axes>"
            ]
          },
          "metadata": {},
          "output_type": "display_data"
        },
        {
          "name": "stdout",
          "output_type": "stream",
          "text": [
            "\n",
            "Modelo: XGBoost\n"
          ]
        },
        {
          "name": "stderr",
          "output_type": "stream",
          "text": [
            "/usr/local/lib/python3.11/dist-packages/xgboost/core.py:158: UserWarning: [12:16:53] WARNING: /workspace/src/learner.cc:740: \n",
            "Parameters: { \"use_label_encoder\" } are not used.\n",
            "\n",
            "  warnings.warn(smsg, UserWarning)\n"
          ]
        },
        {
          "name": "stdout",
          "output_type": "stream",
          "text": [
            "Accuracy:  0.9250\n",
            "Precision: 0.9229\n",
            "Recall:    0.9274\n",
            "F1 Score:  0.9251\n",
            "\n",
            "Reporte de clasificación:\n",
            "              precision    recall  f1-score   support\n",
            "\n",
            "        REAL       0.93      0.92      0.92     10000\n",
            "        FAKE       0.92      0.93      0.93     10000\n",
            "\n",
            "    accuracy                           0.92     20000\n",
            "   macro avg       0.92      0.92      0.92     20000\n",
            "weighted avg       0.92      0.92      0.92     20000\n",
            "\n"
          ]
        },
        {
          "data": {
            "image/png": "[encoded data removed]",
            "text/plain": [
              "<Figure size 640x480 with 2 Axes>"
            ]
          },
          "metadata": {},
          "output_type": "display_data"
        }
      ],
      "source": [
        "#@title Evaluar modelo supervisado con machine learning 🏷️✅\n",
        "import xgboost as xgb\n",
        "from sklearn.ensemble import RandomForestClassifier\n",
        "from sklearn.linear_model import LogisticRegression\n",
        "from sklearn.svm import SVC\n",
        "\n",
        "from sklearn.metrics import classification_report, confusion_matrix, accuracy_score, precision_score, recall_score, f1_score\n",
        "import seaborn as sns\n",
        "import matplotlib.pyplot as plt\n",
        "\n",
        "def evaluar_modelo_ml(nombre, modelo, X_train, y_train, X_test, y_test):\n",
        "    print(f\"\\nModelo: {nombre}\")\n",
        "    modelo.fit(X_train, np.argmax(y_train, axis=1))\n",
        "    y_pred = modelo.predict(X_test)\n",
        "    y_true = np.argmax(y_test, axis=1)\n",
        "\n",
        "    acc = accuracy_score(y_true, y_pred)\n",
        "    prec = precision_score(y_true, y_pred)\n",
        "    rec = recall_score(y_true, y_pred)\n",
        "    f1 = f1_score(y_true, y_pred)\n",
        "\n",
        "    print(f\"Accuracy:  {acc:.4f}\")\n",
        "    print(f\"Precision: {prec:.4f}\")\n",
        "    print(f\"Recall:    {rec:.4f}\")\n",
        "    print(f\"F1 Score:  {f1:.4f}\")\n",
        "\n",
        "    print(\"\\nReporte de clasificación:\")\n",
        "    print(classification_report(y_true, y_pred, target_names=[\"REAL\", \"FAKE\"]))\n",
        "\n",
        "    sns.heatmap(confusion_matrix(y_true, y_pred), annot=True, fmt=\"d\", cmap=\"Blues\",\n",
        "                xticklabels=[\"REAL\", \"FAKE\"], yticklabels=[\"REAL\", \"FAKE\"])\n",
        "    plt.title(f\"Confusion Matrix - {nombre}\")\n",
        "    plt.xlabel(\"Predicted\")\n",
        "    plt.ylabel(\"Actual\")\n",
        "    plt.show()\n",
        "\n",
        "# Modelos ML\n",
        "modelo_rf = RandomForestClassifier(n_estimators=100, random_state=42)\n",
        "modelo_lr = LogisticRegression(max_iter=1000)\n",
        "modelo_svm = SVC(kernel='rbf')\n",
        "modelo_xgb = xgb.XGBClassifier(use_label_encoder=False, eval_metric='logloss')\n",
        "\n",
        "# Evaluaciones\n",
        "evaluar_modelo_ml(\"Random Forest\", modelo_rf, X_train_flat_s, y_train_s, X_test_flat_s, y_test_s)\n",
        "evaluar_modelo_ml(\"Logistic Regression\", modelo_lr, X_train_flat_s, y_train_s, X_test_flat_s, y_test_s)\n",
        "evaluar_modelo_ml(\"SVM (RBF Kernel)\", modelo_svm, X_train_flat_s, y_train_s, X_test_flat_s, y_test_s)\n",
        "evaluar_modelo_ml(\"XGBoost\", modelo_xgb, X_train_flat_s, y_train_s, X_test_flat_s, y_test_s)"
      ]
    },
    {
      "cell_type": "markdown",
      "metadata": {
        "id": "L4ZpWDEifkTH"
      },
      "source": [
        "# Modelo no supervisado 🥷🏿"
      ]
    },
    {
      "cell_type": "code",
      "execution_count": null,
      "metadata": {
        "cellView": "form",
        "id": "03YidWN5bosn"
      },
      "outputs": [],
      "source": [
        "#@title Diseño de modelo convolucional no supervisado 🥷🏿\n",
        "\n",
        "#Metricas para recontruccion de imagenes\n",
        "def ssim_metric(y_true, y_pred):\n",
        "    return tf.reduce_mean(tf.image.ssim(y_true, y_pred, max_val=1.0))\n",
        "\n",
        "def psnr_metric(y_true, y_pred):\n",
        "    return tf.reduce_mean(tf.image.psnr(y_true, y_pred, max_val=1.0))\n",
        "\n",
        "#Arquitectura Autoencoder\n",
        "def make_conv_model_non_s(learning_rate=1e-3, optimizer=\"adam\", batchsize=32,):\n",
        "\n",
        "    model = tf.keras.Sequential([\n",
        "    tf.keras.layers.Conv2D(32, (3, 3), activation='relu', input_shape=X_train[0].shape),\n",
        "    tf.keras.layers.MaxPooling2D(pool_size=(2, 2)),\n",
        "    tf.keras.layers.Conv2D(64, (3, 3), activation='relu'),\n",
        "    tf.keras.layers.MaxPooling2D(pool_size=(2, 2)),\n",
        "    tf.keras.layers.Conv2D(128, (3, 3), activation='relu'),\n",
        "    tf.keras.layers.MaxPooling2D(pool_size=(2, 2)),\n",
        "\n",
        "    tf.keras.layers.Conv2DTranspose(128, (3, 3), strides=2, padding='same', activation='relu'),  # 4 → 8\n",
        "    tf.keras.layers.Conv2DTranspose(64, (3, 3), strides=2, padding='same', activation='relu'),   # 8 → 16\n",
        "    tf.keras.layers.Conv2DTranspose(32, (3, 3), strides=2, padding='same', activation='relu'),   # 16 → 32\n",
        "    tf.keras.layers.Conv2DTranspose(32, (3, 3), strides=2, padding='same', activation='relu'),   # 16 → 32\n",
        "    tf.keras.layers.Conv2D(3, (3, 3), activation='sigmoid', padding='same')  # 32x32x3\n",
        "\n",
        "    ])\n",
        "\n",
        "\n",
        "\n",
        "    # Learning rate scheduler\n",
        "    lr_schedule = keras.optimizers.schedules.ExponentialDecay(\n",
        "        initial_learning_rate=learning_rate,\n",
        "        decay_steps=10000,\n",
        "        decay_rate=0.9)\n",
        "\n",
        "    # Optimizer selection\n",
        "    if optimizer.lower() == \"adam\":\n",
        "        opt = keras.optimizers.Adam(learning_rate=lr_schedule)\n",
        "    else:\n",
        "        opt = keras.optimizers.SGD(learning_rate=lr_schedule, momentum=0.9)\n",
        "\n",
        "    # Include 'precision' in the metrics list\n",
        "    model.compile(\n",
        "        optimizer=opt,\n",
        "        loss= 'mse',\n",
        "        metrics=[\n",
        "        ssim_metric,\n",
        "        psnr_metric\n",
        "          ])\n",
        "\n",
        "    # Early stopping callback\n",
        "    callbacks = [\n",
        "        keras.callbacks.EarlyStopping(\n",
        "            monitor='val_loss',\n",
        "            patience=5,\n",
        "            restore_best_weights=True)\n",
        "    ]\n",
        "\n",
        "    print('Training model...')\n",
        "    history = model.fit(\n",
        "        x=X_train,\n",
        "        y=X_train,\n",
        "        batch_size=batchsize,\n",
        "        epochs=5,\n",
        "        validation_data=(X_val, X_val),\n",
        "        callbacks=callbacks,\n",
        "        verbose=1\n",
        "    )\n",
        "\n",
        "    return model"
      ]
    },
    {
      "cell_type": "code",
      "execution_count": null,
      "metadata": {
        "cellView": "form",
        "colab": {
          "base_uri": "https://localhost:8080/"
        },
        "collapsed": true,
        "id": "6ysDH-gBSZ8A",
        "outputId": "5ddca5bc-8f87-4aa5-985c-c994f45de31c"
      },
      "outputs": [
        {
          "name": "stderr",
          "output_type": "stream",
          "text": [
            "/usr/local/lib/python3.11/dist-packages/keras/src/layers/convolutional/base_conv.py:107: UserWarning: Do not pass an `input_shape`/`input_dim` argument to a layer. When using Sequential models, prefer using an `Input(shape)` object as the first layer in the model instead.\n",
            "  super().__init__(activity_regularizer=activity_regularizer, **kwargs)\n"
          ]
        },
        {
          "name": "stdout",
          "output_type": "stream",
          "text": [
            "Training model...\n",
            "Epoch 1/5\n",
            "\u001b[1m2813/2813\u001b[0m \u001b[32m━━━━━━━━━━━━━━━━━━━━\u001b[0m\u001b[37m\u001b[0m \u001b[1m26s\u001b[0m 7ms/step - loss: 0.0272 - psnr_metric: 16.5880 - ssim_metric: 0.3334 - val_loss: 0.0157 - val_psnr_metric: 18.6641 - val_ssim_metric: 0.4883\n",
            "Epoch 2/5\n",
            "\u001b[1m2813/2813\u001b[0m \u001b[32m━━━━━━━━━━━━━━━━━━━━\u001b[0m\u001b[37m\u001b[0m \u001b[1m16s\u001b[0m 6ms/step - loss: 0.0150 - psnr_metric: 18.8848 - ssim_metric: 0.5012 - val_loss: 0.0133 - val_psnr_metric: 19.4230 - val_ssim_metric: 0.5390\n",
            "Epoch 3/5\n",
            "\u001b[1m2813/2813\u001b[0m \u001b[32m━━━━━━━━━━━━━━━━━━━━\u001b[0m\u001b[37m\u001b[0m \u001b[1m20s\u001b[0m 5ms/step - loss: 0.0132 - psnr_metric: 19.4496 - ssim_metric: 0.5464 - val_loss: 0.0125 - val_psnr_metric: 19.6978 - val_ssim_metric: 0.5677\n",
            "Epoch 4/5\n",
            "\u001b[1m2813/2813\u001b[0m \u001b[32m━━━━━━━━━━━━━━━━━━━━\u001b[0m\u001b[37m\u001b[0m \u001b[1m21s\u001b[0m 6ms/step - loss: 0.0124 - psnr_metric: 19.7285 - ssim_metric: 0.5708 - val_loss: 0.0124 - val_psnr_metric: 19.7005 - val_ssim_metric: 0.5767\n",
            "Epoch 5/5\n",
            "\u001b[1m2813/2813\u001b[0m \u001b[32m━━━━━━━━━━━━━━━━━━━━\u001b[0m\u001b[37m\u001b[0m \u001b[1m16s\u001b[0m 6ms/step - loss: 0.0119 - psnr_metric: 19.9249 - ssim_metric: 0.5883 - val_loss: 0.0116 - val_psnr_metric: 20.0501 - val_ssim_metric: 0.5985\n"
          ]
        }
      ],
      "source": [
        "#@title crear modelo no supervisado 🥷🏿\n",
        "nonsupervised_model = make_conv_model_non_s()"
      ]
    },
    {
      "cell_type": "code",
      "execution_count": null,
      "metadata": {
        "cellView": "form",
        "id": "ouTUXQVDjc0j"
      },
      "outputs": [],
      "source": [
        "#@title Guardar modelos convolucionales no supervisados en drive 🥷🏿\n",
        "from tensorflow.keras import Input, Model\n",
        "model_input = Input(shape=(32, 32, 3))\n",
        "x = model_input\n",
        "for layer in nonsupervised_model.layers[:6]:  #toma las 6 primeras capas del autoencoder, osea el encoder\n",
        "    x = layer(x)\n",
        "conv_model = Model(inputs=model_input, outputs=x)\n",
        "conv_model.save(ruta+'/Modelo_conv_flat_non_s.keras') #Guarda el encoder\n",
        "nonsupervised_model.save(ruta+'/Modelo_conv_full_non_s.keras') #Guarda el autoencoder"
      ]
    },
    {
      "cell_type": "code",
      "execution_count": null,
      "metadata": {
        "cellView": "form",
        "colab": {
          "base_uri": "https://localhost:8080/"
        },
        "collapsed": true,
        "id": "HapIFbA2H4Pb",
        "outputId": "fe1c08b1-8ab6-4c40-d6b0-4df11c5711a9"
      },
      "outputs": [
        {
          "name": "stdout",
          "output_type": "stream",
          "text": [
            "\u001b[1m2813/2813\u001b[0m \u001b[32m━━━━━━━━━━━━━━━━━━━━\u001b[0m\u001b[37m\u001b[0m \u001b[1m7s\u001b[0m 2ms/step\n",
            "\u001b[1m625/625\u001b[0m \u001b[32m━━━━━━━━━━━━━━━━━━━━\u001b[0m\u001b[37m\u001b[0m \u001b[1m1s\u001b[0m 2ms/step\n"
          ]
        }
      ],
      "source": [
        "#@title Genera embebidos y los guarda en drive (no supervisado) 🥷🏿\n",
        "from tensorflow.keras.models import load_model\n",
        "def generar_embebidos(path = ruta + 'Modelo_conv_flat_non_s.keras'):\n",
        "  conv_model = load_model(path)\n",
        "  X_train_embebido = conv_model.predict(X_train)\n",
        "  X_test_embebido = conv_model.predict(X_test)\n",
        "\n",
        "  X_train_embebido = X_train_embebido.reshape(X_train_embebido.shape[0], -1)\n",
        "  X_test_embebido = X_test_embebido.reshape(X_test_embebido.shape[0], -1)\n",
        "\n",
        "  return X_train_embebido, X_test_embebido\n",
        "\n",
        "\n",
        "X_train_flat, X_test_flat = generar_embebidos()\n",
        "# Guardar como archivos separados\n",
        "np.save(ruta + 'X_train_flat_non_s.npy', X_train_flat)\n",
        "np.save(ruta + 'X_test_flat_non_s.npy', X_test_flat)\n",
        "np.save(ruta + 'y_train_non_s.npy', y_train)\n",
        "np.save(ruta + 'y_test_non_s.npy', y_test)"
      ]
    },
    {
      "cell_type": "code",
      "execution_count": null,
      "metadata": {
        "cellView": "form",
        "colab": {
          "base_uri": "https://localhost:8080/",
          "height": 393
        },
        "collapsed": true,
        "id": "8QKCywcdj22m",
        "outputId": "7514c744-6be3-4cf4-805b-656b3eb93df3"
      },
      "outputs": [
        {
          "name": "stdout",
          "output_type": "stream",
          "text": [
            "\u001b[1m1/1\u001b[0m \u001b[32m━━━━━━━━━━━━━━━━━━━━\u001b[0m\u001b[37m\u001b[0m \u001b[1m1s\u001b[0m 1s/step   \n",
            "(32, 32, 3)\n",
            "(32, 32, 3)\n"
          ]
        },
        {
          "data": {
            "image/png": "[encoded data removed]",
            "text/plain": [
              "<Figure size 800x400 with 2 Axes>"
            ]
          },
          "metadata": {},
          "output_type": "display_data"
        }
      ],
      "source": [
        "#@title Mostrar imagen y reconstruccion de autoencoder no supervisado 🥷🏿✅\n",
        "from tensorflow.keras.models import load_model\n",
        "\n",
        "def comparar_original_reconstruccion(mymodel):\n",
        "  import matplotlib.pyplot as plt\n",
        "  import numpy as np\n",
        "\n",
        "  # Entrada original\n",
        "  original = np.load(ruta + 'Imagen prueba.npy')\n",
        "\n",
        "  # Reconstrucción del modelo\n",
        "  reconstructed = mymodel.predict(np.expand_dims(original, axis=0))[0]  # Quitar el batch con [0]\n",
        "\n",
        "  print(original.shape)\n",
        "  print(reconstructed.shape)\n",
        "\n",
        "  # Mostrar ambas\n",
        "  plt.figure(figsize=(8, 4))\n",
        "\n",
        "  plt.subplot(1, 2, 1)\n",
        "  plt.imshow(original)\n",
        "  plt.title(\"Original\")\n",
        "  plt.axis(\"off\")\n",
        "  plt.subplot(1, 2, 2)\n",
        "  plt.imshow(reconstructed)\n",
        "  plt.title(\"Reconstruida\")\n",
        "  plt.axis(\"off\")\n",
        "  plt.show()\n",
        "\n",
        "conv_model = load_model(ruta + 'Modelo_conv_full_non_s.keras', custom_objects={'ssim_metric': ssim_metric, 'psnr_metric':psnr_metric})\n",
        "comparar_original_reconstruccion(conv_model)"
      ]
    },
    {
      "cell_type": "code",
      "execution_count": null,
      "metadata": {
        "cellView": "form",
        "colab": {
          "background_save": true
        },
        "collapsed": true,
        "id": "TvZkXpFqYX9L"
      },
      "outputs": [],
      "source": [
        "#@title Cargar embebidos de drive (no supervisado) 🥷🏿✅\n",
        "import numpy as np\n",
        "X_train_flat_non_s = np.load(ruta + 'X_train_flat_non_s.npy')\n",
        "X_test_flat_non_s = np.load(ruta + 'X_test_flat_non_s.npy')\n",
        "y_train_non_s = np.load(ruta + 'y_train_non_s.npy')\n",
        "y_test_non_s = np.load(ruta + 'y_test_non_s.npy')"
      ]
    },
    {
      "cell_type": "code",
      "execution_count": null,
      "metadata": {
        "cellView": "form",
        "collapsed": true,
        "id": "dAnWNuVKPy6x"
      },
      "outputs": [],
      "source": [
        "#@title Poner a prueba los metodos (no supervisado) 🥷🏿✅\n",
        "from sklearn.decomposition import PCA\n",
        "from sklearn.manifold import TSNE\n",
        "from sklearn.cluster import KMeans, DBSCAN\n",
        "from sklearn.preprocessing import StandardScaler\n",
        "from sklearn.metrics import silhouette_score, calinski_harabasz_score, davies_bouldin_score\n",
        "\n",
        "import matplotlib.pyplot as plt\n",
        "import seaborn as sns\n",
        "import tensorflow as tf\n",
        "import numpy as np\n",
        "\n",
        "# Preprocesamiento\n",
        "scaler = StandardScaler()\n",
        "X_scaled = scaler.fit_transform(X_train_flat_non_s)\n",
        "\n",
        "# Reducción con PCA\n",
        "pca = PCA(n_components=2)\n",
        "X_pca = pca.fit_transform(X_scaled)\n",
        "\n",
        "# Reducción con t-SNE (con subset si es muy grande)\n",
        "X_subset = X_scaled[:30000]\n",
        "tsne = TSNE(n_components=2, perplexity=30, n_iter=250, random_state=42)\n",
        "X_tsne = tsne.fit_transform(X_subset)\n",
        "\n",
        "# Clustering\n",
        "kmeans_pca = KMeans(n_clusters=2, random_state=42).fit_predict(X_pca)\n",
        "dbscan_pca = DBSCAN(eps=1, min_samples=5).fit_predict(X_pca)\n",
        "\n",
        "kmeans_tsne = KMeans(n_clusters=2, random_state=42).fit_predict(X_tsne)\n",
        "dbscan_tsne = DBSCAN(eps=1, min_samples=5).fit_predict(X_tsne)\n",
        "\n",
        "# Función para imprimir métricas\n",
        "def print_metrics(X, labels, name):\n",
        "    unique_labels = set(labels)\n",
        "    if len(unique_labels) > 1 and len(unique_labels) < len(X):\n",
        "        sil = silhouette_score(X, labels)\n",
        "        ch = calinski_harabasz_score(X, labels)\n",
        "        db = davies_bouldin_score(X, labels)\n",
        "        print(f\"\\n{name}\")\n",
        "        print(f\"  Clusters encontrados: {len(set(labels)) - (1 if -1 in labels else 0)}\")\n",
        "        print(f\"  Silhouette Score: {sil:.3f}\")\n",
        "        print(f\"  Calinski-Harabasz Score: {ch:.3f}\")\n",
        "        print(f\"  Davies-Bouldin Score: {db:.3f}\")\n",
        "    else:\n",
        "        print(f\"\\n{name}: Clustering inválido (solo 1 clúster o todos ruido)\")\n",
        "\n",
        "# Mostrar métricas\n",
        "print_metrics(X_pca, kmeans_pca, \"KMeans + PCA\")\n",
        "print_metrics(X_pca, dbscan_pca, \"DBSCAN + PCA\")\n",
        "print_metrics(X_tsne, kmeans_tsne, \"KMeans + t-SNE\")\n",
        "print_metrics(X_tsne, dbscan_tsne, \"DBSCAN + t-SNE\")\n",
        "\n",
        "# Visualización\n",
        "fig, axs = plt.subplots(2, 2, figsize=(12, 10))\n",
        "sns.scatterplot(x=X_pca[:, 0], y=X_pca[:, 1], hue=kmeans_pca, palette='viridis', ax=axs[0, 0])\n",
        "axs[0, 0].set_title(\"KMeans + PCA\")\n",
        "\n",
        "sns.scatterplot(x=X_pca[:, 0], y=X_pca[:, 1], hue=dbscan_pca, palette='cool', ax=axs[0, 1])\n",
        "axs[0, 1].set_title(\"DBSCAN + PCA\")\n",
        "\n",
        "sns.scatterplot(x=X_tsne[:, 0], y=X_tsne[:, 1], hue=kmeans_tsne, palette='viridis', ax=axs[1, 0])\n",
        "axs[1, 0].set_title(\"KMeans + t-SNE\")\n",
        "\n",
        "sns.scatterplot(x=X_tsne[:, 0], y=X_tsne[:, 1], hue=dbscan_tsne, palette='cool', ax=axs[1, 1])\n",
        "axs[1, 1].set_title(\"DBSCAN + t-SNE\")\n",
        "\n",
        "plt.tight_layout()\n",
        "plt.show()\n"
      ]
    }
  ],
  "metadata": {
    "accelerator": "GPU",
    "colab": {
      "gpuType": "T4",
      "provenance": []
    },
    "kernelspec": {
      "display_name": "Python 3",
      "name": "python3"
    },
    "language_info": {
      "name": "python"
    }
  },
  "nbformat": 4,
  "nbformat_minor": 0
}